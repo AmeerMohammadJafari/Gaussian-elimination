{
 "cells": [
  {
   "cell_type": "code",
   "execution_count": 3,
   "id": "f5ab9310",
   "metadata": {},
   "outputs": [],
   "source": [
    "import numpy as np"
   ]
  },
  {
   "cell_type": "code",
   "execution_count": 4,
   "id": "b5ba48ec",
   "metadata": {},
   "outputs": [
    {
     "name": "stdout",
     "output_type": "stream",
     "text": [
      "5\n"
     ]
    }
   ],
   "source": [
    "n = int(input())"
   ]
  },
  {
   "cell_type": "code",
   "execution_count": 5,
   "id": "0713cad4",
   "metadata": {},
   "outputs": [
    {
     "data": {
      "text/plain": [
       "array([[0., 0., 0., 0., 0.],\n",
       "       [0., 0., 0., 0., 0.],\n",
       "       [0., 0., 0., 0., 0.],\n",
       "       [0., 0., 0., 0., 0.],\n",
       "       [0., 0., 0., 0., 0.]])"
      ]
     },
     "execution_count": 5,
     "metadata": {},
     "output_type": "execute_result"
    }
   ],
   "source": [
    "A = np.zeros((n,n))\n",
    "A"
   ]
  },
  {
   "cell_type": "code",
   "execution_count": 6,
   "id": "fc10538d",
   "metadata": {},
   "outputs": [
    {
     "data": {
      "text/plain": [
       "array([0., 0., 0., 0., 0.])"
      ]
     },
     "execution_count": 6,
     "metadata": {},
     "output_type": "execute_result"
    }
   ],
   "source": [
    "b = np.zeros((n,))\n",
    "b"
   ]
  },
  {
   "cell_type": "code",
   "execution_count": 9,
   "id": "cc00f772",
   "metadata": {},
   "outputs": [
    {
     "name": "stdout",
     "output_type": "stream",
     "text": [
      "1\n",
      "3\n",
      "2\n",
      "-4\n",
      "3\n",
      "-2\n",
      "-1\n",
      "3\n",
      "6\n",
      "4\n",
      "0\n",
      "-1\n",
      "3\n",
      "-5\n",
      "1\n",
      "3\n",
      "-4\n",
      "2\n",
      "5\n",
      "-7\n",
      "1\n",
      "2\n",
      "-8\n",
      "6\n",
      "1\n"
     ]
    }
   ],
   "source": [
    "for i in range(n):\n",
    "    for j in range(n):\n",
    "        A[i, j] = float(input())"
   ]
  },
  {
   "cell_type": "code",
   "execution_count": 10,
   "id": "f6168377",
   "metadata": {},
   "outputs": [
    {
     "data": {
      "text/plain": [
       "array([[ 1.,  3.,  2., -4.,  3.],\n",
       "       [-2., -1.,  3.,  6.,  4.],\n",
       "       [ 0., -1.,  3., -5.,  1.],\n",
       "       [ 3., -4.,  2.,  5., -7.],\n",
       "       [ 1.,  2., -8.,  6.,  1.]])"
      ]
     },
     "execution_count": 10,
     "metadata": {},
     "output_type": "execute_result"
    }
   ],
   "source": [
    "A"
   ]
  },
  {
   "cell_type": "code",
   "execution_count": 11,
   "id": "fec5e2e0",
   "metadata": {},
   "outputs": [
    {
     "name": "stdout",
     "output_type": "stream",
     "text": [
      "-3\n",
      "19\n",
      "-2\n",
      "-11\n",
      "4\n"
     ]
    }
   ],
   "source": [
    "for i in range(n):\n",
    "    b[i] = float(input())"
   ]
  },
  {
   "cell_type": "code",
   "execution_count": 12,
   "id": "c3241531",
   "metadata": {},
   "outputs": [
    {
     "data": {
      "text/plain": [
       "array([ -3.,  19.,  -2., -11.,   4.])"
      ]
     },
     "execution_count": 12,
     "metadata": {},
     "output_type": "execute_result"
    }
   ],
   "source": [
    "b"
   ]
  },
  {
   "cell_type": "code",
   "execution_count": 13,
   "id": "4dfb686d",
   "metadata": {},
   "outputs": [
    {
     "data": {
      "text/plain": [
       "array([[  1.,   3.,   2.,  -4.,   3.,  -3.],\n",
       "       [ -2.,  -1.,   3.,   6.,   4.,  19.],\n",
       "       [  0.,  -1.,   3.,  -5.,   1.,  -2.],\n",
       "       [  3.,  -4.,   2.,   5.,  -7., -11.],\n",
       "       [  1.,   2.,  -8.,   6.,   1.,   4.]])"
      ]
     },
     "execution_count": 13,
     "metadata": {},
     "output_type": "execute_result"
    }
   ],
   "source": [
    "augmented_matrix = np.c_[A, b]\n",
    "augmented_matrix"
   ]
  },
  {
   "cell_type": "code",
   "execution_count": 14,
   "id": "b753a617",
   "metadata": {},
   "outputs": [],
   "source": [
    "def make_below_zero(matrix, row, column, n):\n",
    "    i = row + 1\n",
    "    while i < n :\n",
    "        if matrix[i, column] != 0:\n",
    "            coef = matrix[i,column] / matrix[row, column]\n",
    "            matrix[i,] -= coef * matrix[row,]\n",
    "            matrix[i,column] = 0\n",
    "        i += 1"
   ]
  },
  {
   "cell_type": "code",
   "execution_count": 15,
   "id": "73b11135",
   "metadata": {},
   "outputs": [
    {
     "name": "stdout",
     "output_type": "stream",
     "text": [
      "[[  1.   3.   2.  -4.   3.  -3.]\n",
      " [  0.   5.   7.  -2.  10.  13.]\n",
      " [  0.  -1.   3.  -5.   1.  -2.]\n",
      " [  0. -13.  -4.  17. -16.  -2.]\n",
      " [  0.  -1. -10.  10.  -2.   7.]]\n",
      "[[ 1.   3.   2.  -4.   3.  -3. ]\n",
      " [ 0.   5.   7.  -2.  10.  13. ]\n",
      " [ 0.   0.   4.4 -5.4  3.   0.6]\n",
      " [ 0.   0.  14.2 11.8 10.  31.8]\n",
      " [ 0.   0.  -8.6  9.6  0.   9.6]]\n",
      "[[ 1.          3.          2.         -4.          3.         -3.        ]\n",
      " [ 0.          5.          7.         -2.         10.         13.        ]\n",
      " [ 0.          0.          4.4        -5.4         3.          0.6       ]\n",
      " [ 0.          0.          0.         29.22727273  0.31818182 29.86363636]\n",
      " [ 0.          0.          0.         -0.95454545  5.86363636 10.77272727]]\n",
      "[[ 1.          3.          2.         -4.          3.         -3.        ]\n",
      " [ 0.          5.          7.         -2.         10.         13.        ]\n",
      " [ 0.          0.          4.4        -5.4         3.          0.6       ]\n",
      " [ 0.          0.          0.         29.22727273  0.31818182 29.86363636]\n",
      " [ 0.          0.          0.          0.          5.87402799 11.74805599]]\n",
      "[[ 1.          3.          2.         -4.          3.         -3.        ]\n",
      " [ 0.          5.          7.         -2.         10.         13.        ]\n",
      " [ 0.          0.          4.4        -5.4         3.          0.6       ]\n",
      " [ 0.          0.          0.         29.22727273  0.31818182 29.86363636]\n",
      " [ 0.          0.          0.          0.          5.87402799 11.74805599]]\n"
     ]
    }
   ],
   "source": [
    "completed_row = 0\n",
    "for c in range(n):\n",
    "    current_column = augmented_matrix[completed_row:, c]\n",
    "    if not np.all((current_column==0)):\n",
    "        index = completed_row\n",
    "        for element in current_column:\n",
    "            if element != 0:\n",
    "                break\n",
    "            else:\n",
    "                index += 1\n",
    "        # interchange\n",
    "        augmented_matrix[[completed_row, index]] = augmented_matrix[[index, completed_row]]\n",
    "        make_below_zero(augmented_matrix, completed_row, c, n)\n",
    "        completed_row += 1\n",
    "        print(augmented_matrix)"
   ]
  },
  {
   "cell_type": "code",
   "execution_count": 27,
   "id": "48d532fb",
   "metadata": {},
   "outputs": [],
   "source": [
    "def make_up_zero(matrix, row, column, n):\n",
    "    i = row - 1\n",
    "    while i >= 0:\n",
    "         if matrix[i, column] != 0:\n",
    "            coef = matrix[i,column] / matrix[row, column]\n",
    "            matrix[i,] -= coef * matrix[row,]\n",
    "            matrix[i,column] = 0\n",
    "         i -= 1\n",
    "    matrix[row,] /= matrix[row,column]"
   ]
  },
  {
   "cell_type": "code",
   "execution_count": 28,
   "id": "ec8e37d9",
   "metadata": {},
   "outputs": [
    {
     "name": "stdout",
     "output_type": "stream",
     "text": [
      "[[ 1.  0.  0.  0.  0. -2.]\n",
      " [ 0.  1.  0.  0.  0. -1.]\n",
      " [ 0.  0.  1.  0.  0.  0.]\n",
      " [ 0.  0.  0.  1.  0.  1.]\n",
      " [ 0.  0.  0.  0.  1.  2.]]\n",
      "[[ 1.  0.  0.  0.  0. -2.]\n",
      " [ 0.  1.  0.  0.  0. -1.]\n",
      " [ 0.  0.  1.  0.  0.  0.]\n",
      " [ 0.  0.  0.  1.  0.  1.]\n",
      " [ 0.  0.  0.  0.  1.  2.]]\n",
      "[[ 1.  0.  0.  0.  0. -2.]\n",
      " [ 0.  1.  0.  0.  0. -1.]\n",
      " [ 0.  0.  1.  0.  0.  0.]\n",
      " [ 0.  0.  0.  1.  0.  1.]\n",
      " [ 0.  0.  0.  0.  1.  2.]]\n",
      "[[ 1.  0.  0.  0.  0. -2.]\n",
      " [ 0.  1.  0.  0.  0. -1.]\n",
      " [ 0.  0.  1.  0.  0.  0.]\n",
      " [ 0.  0.  0.  1.  0.  1.]\n",
      " [ 0.  0.  0.  0.  1.  2.]]\n",
      "[[ 1.  0.  0.  0.  0. -2.]\n",
      " [ 0.  1.  0.  0.  0. -1.]\n",
      " [ 0.  0.  1.  0.  0.  0.]\n",
      " [ 0.  0.  0.  1.  0.  1.]\n",
      " [ 0.  0.  0.  0.  1.  2.]]\n"
     ]
    }
   ],
   "source": [
    "number_of_pivots = 0\n",
    "consistent = True\n",
    "for r in range(n - 1, -1, -1):\n",
    "    current_row = augmented_matrix[r, :]\n",
    "    if not np.all((current_row==0)):\n",
    "        number_of_pivots += 1\n",
    "        index = 0\n",
    "        for element in current_row:\n",
    "            if element != 0:\n",
    "                break\n",
    "            else:\n",
    "                index += 1\n",
    "        if index == n:\n",
    "            consistent = False\n",
    "        make_up_zero(augmented_matrix, r, index, n)\n",
    "        print(augmented_matrix)"
   ]
  },
  {
   "cell_type": "code",
   "execution_count": 29,
   "id": "c1ecd5b8",
   "metadata": {},
   "outputs": [
    {
     "name": "stdout",
     "output_type": "stream",
     "text": [
      "The solution is: \n",
      "\n",
      "[-2. -1.  0.  1.  2.]\n"
     ]
    }
   ],
   "source": [
    "if not consistent:\n",
    "    print(\"The system of equation has no solution!\\n\")\n",
    "elif number_of_pivots == n:\n",
    "    print(\"The solution is: \\n\")\n",
    "    print(augmented_matrix[:, n])\n",
    "else:\n",
    "    print(\"The system has infinite solutions\\n\")\n",
    "    "
   ]
  }
 ],
 "metadata": {
  "kernelspec": {
   "display_name": "Python 3 (ipykernel)",
   "language": "python",
   "name": "python3"
  },
  "language_info": {
   "codemirror_mode": {
    "name": "ipython",
    "version": 3
   },
   "file_extension": ".py",
   "mimetype": "text/x-python",
   "name": "python",
   "nbconvert_exporter": "python",
   "pygments_lexer": "ipython3",
   "version": "3.9.7"
  }
 },
 "nbformat": 4,
 "nbformat_minor": 5
}
